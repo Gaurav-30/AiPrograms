{
  "nbformat": 4,
  "nbformat_minor": 0,
  "metadata": {
    "colab": {
      "name": "Sudoku_program.ipynb",
      "provenance": [],
      "authorship_tag": "ABX9TyOCSbrTswUIY7tJ1GIFjjN5",
      "include_colab_link": true
    },
    "kernelspec": {
      "name": "python3",
      "display_name": "Python 3"
    },
    "language_info": {
      "name": "python"
    }
  },
  "cells": [
    {
      "cell_type": "markdown",
      "metadata": {
        "id": "view-in-github",
        "colab_type": "text"
      },
      "source": [
        "<a href=\"https://colab.research.google.com/github/Gaurav-30/aiLabPrograms/blob/main/Sudoku_program.ipynb\" target=\"_parent\"><img src=\"https://colab.research.google.com/assets/colab-badge.svg\" alt=\"Open In Colab\"/></a>"
      ]
    },
    {
      "cell_type": "code",
      "metadata": {
        "colab": {
          "base_uri": "https://localhost:8080/"
        },
        "id": "ioMXcopBibaR",
        "outputId": "36b29124-52b6-434d-8c55-6cb2da3ff291"
      },
      "source": [
        "size = 9\n",
        "matrix = [\n",
        "    [5,3,0,0,7,0,0,0,0],\n",
        "    [6,0,0,1,9,5,0,0,0],\n",
        "    [0,9,8,0,0,0,0,6,0],\n",
        "    [8,0,0,0,6,0,0,0,3],\n",
        "    [4,0,0,8,0,3,0,0,1],\n",
        "    [7,0,0,0,2,0,0,0,6],\n",
        "    [0,6,0,0,0,0,2,8,0],\n",
        "    [0,0,0,4,1,9,0,0,5],\n",
        "    [0,0,0,0,8,0,0,7,9]]\n",
        "def print_sudoku():\n",
        "    for i in matrix:\n",
        "        print (i)\n",
        "def number_unassigned(row, col):\n",
        "    num_unassign = 0\n",
        "    for i in range(0,size):\n",
        "        for j in range (0,size):\n",
        "            #cell is unassigned\n",
        "            if matrix[i][j] == 0:\n",
        "                row = i\n",
        "                col = j\n",
        "                num_unassign = 1\n",
        "                a = [row, col, num_unassign]\n",
        "                return a\n",
        "    a = [-1, -1, num_unassign]\n",
        "    return a \n",
        "def is_safe(n, r, c):\n",
        "    #checking in row\n",
        "    for i in range(0,size):\n",
        "        #there is a cell with same value\n",
        "        if matrix[r][i] == n:\n",
        "            return False\n",
        "    for i in range(0,size):\n",
        "        #there is a cell with same value\n",
        "        if matrix[i][c] == n:\n",
        "            return False\n",
        "    row_start = (r//3)*3\n",
        "    col_start = (c//3)*3;\n",
        "    for i in range(row_start,row_start+3):\n",
        "        for j in range(col_start,col_start+3):\n",
        "            if matrix[i][j]==n:\n",
        "                return False\n",
        "    return True\n",
        "def solve_sudoku():\n",
        "    row = 0\n",
        "    col = 0\n",
        "    a = number_unassigned(row, col)\n",
        "    if a[2] == 0:\n",
        "        return True\n",
        "    row = a[0]\n",
        "    col = a[1]\n",
        "    #number between 1 to 9\n",
        "    for i in range(1,10):\n",
        "        #if we can assign i to the cell or not\n",
        "        #the cell is matrix[row][col]\n",
        "        if is_safe(i, row, col):\n",
        "            matrix[row][col] = i\n",
        "            #backtracking\n",
        "            if solve_sudoku():\n",
        "                return True\n",
        "            matrix[row][col]=0\n",
        "    return False\n",
        "if solve_sudoku():\n",
        "    print_sudoku()\n",
        "else:\n",
        "    print(\"No solution\")"
      ],
      "execution_count": 1,
      "outputs": [
        {
          "output_type": "stream",
          "text": [
            "[5, 3, 4, 6, 7, 8, 9, 1, 2]\n",
            "[6, 7, 2, 1, 9, 5, 3, 4, 8]\n",
            "[1, 9, 8, 3, 4, 2, 5, 6, 7]\n",
            "[8, 5, 9, 7, 6, 1, 4, 2, 3]\n",
            "[4, 2, 6, 8, 5, 3, 7, 9, 1]\n",
            "[7, 1, 3, 9, 2, 4, 8, 5, 6]\n",
            "[9, 6, 1, 5, 3, 7, 2, 8, 4]\n",
            "[2, 8, 7, 4, 1, 9, 6, 3, 5]\n",
            "[3, 4, 5, 2, 8, 6, 1, 7, 9]\n"
          ],
          "name": "stdout"
        }
      ]
    }
  ]
}