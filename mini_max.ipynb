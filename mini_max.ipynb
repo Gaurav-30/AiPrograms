{
  "nbformat": 4,
  "nbformat_minor": 0,
  "metadata": {
    "colab": {
      "name": "mini-max",
      "provenance": [],
      "collapsed_sections": [],
      "authorship_tag": "ABX9TyMypKCd/i9f2ttKNW1ixbA3",
      "include_colab_link": true
    },
    "kernelspec": {
      "name": "python3",
      "display_name": "Python 3"
    },
    "language_info": {
      "name": "python"
    }
  },
  "cells": [
    {
      "cell_type": "markdown",
      "metadata": {
        "id": "view-in-github",
        "colab_type": "text"
      },
      "source": [
        "<a href=\"https://colab.research.google.com/github/Gaurav-30/aiLabPrograms/blob/main/mini_max.ipynb\" target=\"_parent\"><img src=\"https://colab.research.google.com/assets/colab-badge.svg\" alt=\"Open In Colab\"/></a>"
      ]
    },
    {
      "cell_type": "code",
      "metadata": {
        "colab": {
          "base_uri": "https://localhost:8080/"
        },
        "id": "YY0P1r-UaKBE",
        "outputId": "4e150c7d-f1d8-4d84-e790-087cf01e42bc"
      },
      "source": [
        "import time\n",
        "\n",
        "player, opponent = 'x', 'o'\n",
        "def isMovesLeft(board) : \n",
        "\n",
        "    for i in range(3) :\n",
        "        for j in range(3) :\n",
        "            if (board[i][j] == '_') :\n",
        "                return True\n",
        "    return False\n",
        "\n",
        "def evaluate(b) : \n",
        "    for row in range(3) :    \n",
        "        if (b[row][0] == b[row][1] and b[row][1] == b[row][2]) :     \n",
        "            if (b[row][0] == player) :\n",
        "                return 10\n",
        "            elif (b[row][0] == opponent) :\n",
        "                return -10\n",
        "\n",
        "    for col in range(3) :\n",
        "    \n",
        "        if (b[0][col] == b[1][col] and b[1][col] == b[2][col]) :\n",
        "        \n",
        "            if (b[0][col] == player) : \n",
        "                return 10\n",
        "            elif (b[0][col] == opponent) :\n",
        "                return -10\n",
        "\n",
        "    if (b[0][0] == b[1][1] and b[1][1] == b[2][2]) :\n",
        "    \n",
        "        if (b[0][0] == player) :\n",
        "            return 10\n",
        "        elif (b[0][0] == opponent) :\n",
        "            return -10\n",
        "\n",
        "    if (b[0][2] == b[1][1] and b[1][1] == b[2][0]) :\n",
        "    \n",
        "        if (b[0][2] == player) :\n",
        "            return 10\n",
        "        elif (b[0][2] == opponent) :\n",
        "            return -10\n",
        "\n",
        "    return 0\n",
        "\n",
        "def minimax(board, depth, isMax) : \n",
        "    score = evaluate(board)\n",
        "    if (score == 10) : \n",
        "        return score\n",
        "    if (score == -10) :\n",
        "        return score\n",
        "    if (isMovesLeft(board) == False) :\n",
        "        return 0\n",
        "    if (isMax) :     \n",
        "        best = -1000\n",
        "        for i in range(3) :      \n",
        "            for j in range(3) :\n",
        "                if (board[i][j]=='_') :\n",
        "                    board[i][j] = player \n",
        "                    best = max( best, minimax(board,\n",
        "                                            depth + 1,\n",
        "                                            not isMax) )\n",
        "                    board[i][j] = '_'\n",
        "        return best\n",
        "    else :\n",
        "        best = 1000\n",
        "        for i in range(3) :      \n",
        "            for j in range(3) :\n",
        "                if (board[i][j] == '_') :\n",
        "                    board[i][j] = opponent \n",
        "                    best = min(best, minimax(board, depth + 1, not isMax))\n",
        "\n",
        "                    board[i][j] = '_'\n",
        "        return best\n",
        "\n",
        "def findBestMove(board) : \n",
        "    bestVal = -1000\n",
        "    bestMove = (-1, -1) \n",
        "    for i in range(3) :  \n",
        "        for j in range(3) :\n",
        "            if (board[i][j] == '_') : \n",
        "                board[i][j] = player\n",
        "                moveVal = minimax(board, 0, False) \n",
        "                board[i][j] = '_'\n",
        "                if (moveVal > bestVal) :             \n",
        "                    bestMove = (i, j)\n",
        "                    bestVal = moveVal\n",
        "\n",
        "    print()\n",
        "    return bestMove\n",
        "\n",
        "board = [\n",
        "    [ 'x', 'o', 'o' ], \n",
        "    [ 'o', 'o', 'x' ], \n",
        "    [ '_', '_', '_' ] \n",
        "]\n",
        "\n",
        "t0 = time.time()\n",
        "bestMove = findBestMove(board) \n",
        "t1 = time.time() - t0\n",
        "\n",
        "print(\"The Optimal Move is :\")\n",
        "print(\"ROW:\", bestMove[0]+1, \" COL:\", bestMove[1]+1)\n",
        "print('time taken: {0:.8f}'.format(t1))"
      ],
      "execution_count": 1,
      "outputs": [
        {
          "output_type": "stream",
          "text": [
            "\n",
            "The Optimal Move is :\n",
            "ROW: 3  COL: 1\n",
            "time taken: 0.00081635\n"
          ],
          "name": "stdout"
        }
      ]
    }
  ]
}