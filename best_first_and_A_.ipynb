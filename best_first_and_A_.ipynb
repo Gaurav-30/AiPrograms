{
  "nbformat": 4,
  "nbformat_minor": 0,
  "metadata": {
    "colab": {
      "name": "best first and A*",
      "provenance": [],
      "authorship_tag": "ABX9TyPeAJLjhDOPkeKXdwvsSKKM",
      "include_colab_link": true
    },
    "kernelspec": {
      "name": "python3",
      "display_name": "Python 3"
    }
  },
  "cells": [
    {
      "cell_type": "markdown",
      "metadata": {
        "id": "view-in-github",
        "colab_type": "text"
      },
      "source": [
        "<a href=\"https://colab.research.google.com/github/Gaurav-30/aiLabPrograms/blob/main/best_first_and_A_.ipynb\" target=\"_parent\"><img src=\"https://colab.research.google.com/assets/colab-badge.svg\" alt=\"Open In Colab\"/></a>"
      ]
    },
    {
      "cell_type": "markdown",
      "metadata": {
        "id": "gg4-qQK7mb_Q"
      },
      "source": [
        "# Best First Search"
      ]
    },
    {
      "cell_type": "code",
      "metadata": {
        "colab": {
          "base_uri": "https://localhost:8080/"
        },
        "id": "GKR0j7P8L-v5",
        "outputId": "dfc7f889-8f77-4a8c-b6b4-483ff7071e70"
      },
      "source": [
        "from queue import PriorityQueue\n",
        "from time import time\n",
        "\n",
        "v = 14\n",
        "graph = [[] for i in range(v)]\n",
        "\n",
        "def best_first_search(source, target, n):\n",
        "\tvisited = [0] * n\n",
        "\tvisited[0] = True\n",
        "\tpq = PriorityQueue()\n",
        "\tpq.put((0, source))\n",
        "\twhile pq.empty() == False:\n",
        "\t\tu = pq.get()[1]\n",
        "\t\t# Displaying the path having lowest cost\n",
        "\t\tprint(u, end=\" \")\n",
        "\t\tif u == target:\n",
        "\t\t\tbreak\n",
        "\n",
        "\t\tfor v, c in graph[u]:\n",
        "\t\t\tif visited[v] == False:\n",
        "\t\t\t\tvisited[v] = True\n",
        "\t\t\t\tpq.put((c, v))\n",
        "\tprint()\n",
        "\n",
        "def addedge(x, y, cost):\n",
        "\tgraph[x].append((y, cost))\n",
        "\tgraph[y].append((x, cost))\n",
        "\n",
        "addedge(0, 1, 3)\n",
        "addedge(0, 2, 6)\n",
        "addedge(0, 3, 5)\n",
        "addedge(1, 4, 9)\n",
        "addedge(1, 5, 8)\n",
        "addedge(2, 6, 12)\n",
        "addedge(2, 7, 14)\n",
        "addedge(3, 8, 7)\n",
        "addedge(8, 9, 5)\n",
        "addedge(8, 10, 6)\n",
        "addedge(9, 11, 1)\n",
        "addedge(9, 12, 10)\n",
        "addedge(9, 13, 2)\n",
        "\n",
        "t0 = time()\n",
        "source = 0\n",
        "target = 9\n",
        "best_first_search(source, target, v)\n",
        "t1 = time() - t0\n",
        "print('Time Taken: {0:10.7f} seconds'.format(t1))"
      ],
      "execution_count": 1,
      "outputs": [
        {
          "output_type": "stream",
          "text": [
            "0 1 3 2 8 9 \n",
            "Time Taken:  0.0012894 seconds\n"
          ],
          "name": "stdout"
        }
      ]
    },
    {
      "cell_type": "markdown",
      "metadata": {
        "id": "1dsM-3HXmft-"
      },
      "source": [
        "# A* Search"
      ]
    },
    {
      "cell_type": "code",
      "metadata": {
        "id": "OxeKr7bAO2zL"
      },
      "source": [
        "from collections import deque\n",
        "\n",
        "class Graph:\n",
        "    # example of adjacency list (or rather map)\n",
        "    # adjacency_list = {\n",
        "    # 'A': [('B', 1), ('C', 3), ('D', 7)],\n",
        "    # 'B': [('D', 5)],\n",
        "    # 'C': [('D', 12)]\n",
        "    # }\n",
        "\n",
        "    def __init__(self, adjacency_list):\n",
        "        self.adjacency_list = adjacency_list\n",
        "\n",
        "    def get_neighbors(self, v):\n",
        "        return self.adjacency_list[v]\n",
        "\n",
        "    # heuristic function with equal values for all nodes\n",
        "    def h(self, n):\n",
        "        H = {\n",
        "            'A': 1,\n",
        "            'B': 1,\n",
        "            'C': 1,\n",
        "            'D': 1\n",
        "        }\n",
        "\n",
        "        return H[n]\n",
        "\n",
        "    def a_star_algorithm(self, start_node, stop_node):\n",
        "        # open_list is a list of nodes which have been visited, but who's neighbors\n",
        "        # haven't all been inspected, starts off with the start node\n",
        "        # closed_list is a list of nodes which have been visited\n",
        "        # and who's neighbors have been inspected\n",
        "        open_list = set([start_node])\n",
        "        closed_list = set([])\n",
        "\n",
        "        # g contains current distances from start_node to all other nodes\n",
        "        # the default value (if it's not found in the map) is +infinity\n",
        "        g = {}\n",
        "\n",
        "        g[start_node] = 0\n",
        "\n",
        "        # parents contains an adjacency map of all nodes\n",
        "        parents = {}\n",
        "        parents[start_node] = start_node\n",
        "\n",
        "        while len(open_list) > 0:\n",
        "            n = None\n",
        "\n",
        "            # find a node with the lowest value of f() - evaluation function\n",
        "            for v in open_list:\n",
        "                if n == None or g[v] + self.h(v) < g[n] + self.h(n):\n",
        "                    n = v;\n",
        "\n",
        "            if n == None:\n",
        "                print('Path does not exist!')\n",
        "                return None\n",
        "\n",
        "            # if the current node is the stop_node\n",
        "            # then we begin reconstructin the path from it to the start_node\n",
        "            if n == stop_node:\n",
        "                reconst_path = []\n",
        "\n",
        "                while parents[n] != n:\n",
        "                    reconst_path.append(n)\n",
        "                    n = parents[n]\n",
        "\n",
        "                reconst_path.append(start_node)\n",
        "\n",
        "                reconst_path.reverse()\n",
        "\n",
        "                print('Path found: {}'.format(reconst_path))\n",
        "                return reconst_path\n",
        "\n",
        "            # for all neighbors of the current node do\n",
        "            for (m, weight) in self.get_neighbors(n):\n",
        "                # if the current node isn't in both open_list and closed_list\n",
        "                # add it to open_list and note n as it's parent\n",
        "                if m not in open_list and m not in closed_list:\n",
        "                    open_list.add(m)\n",
        "                    parents[m] = n\n",
        "                    g[m] = g[n] + weight\n",
        "\n",
        "                # otherwise, check if it's quicker to first visit n, then m\n",
        "                # and if it is, update parent data and g data\n",
        "                # and if the node was in the closed_list, move it to open_list\n",
        "                else:\n",
        "                    if g[m] > g[n] + weight:\n",
        "                        g[m] = g[n] + weight\n",
        "                        parents[m] = n\n",
        "\n",
        "                        if m in closed_list:\n",
        "                            closed_list.remove(m)\n",
        "                            open_list.add(m)\n",
        "\n",
        "            # remove n from the open_list, and add it to closed_list\n",
        "            # because all of his neighbors were inspected\n",
        "            open_list.remove(n)\n",
        "            closed_list.add(n)\n",
        "\n",
        "        print('Path does not exist!')\n",
        "        return None"
      ],
      "execution_count": 2,
      "outputs": []
    },
    {
      "cell_type": "code",
      "metadata": {
        "id": "z7eVFcTDPAxt",
        "colab": {
          "base_uri": "https://localhost:8080/"
        },
        "outputId": "eef0e2b0-1e7a-4a20-f8bd-b53fc5c94065"
      },
      "source": [
        "adjacency_list = {\n",
        "    'A': [('B', 1), ('C', 3), ('D', 7)],\n",
        "    'B': [('D', 5)],\n",
        "    'C': [('D', 12)]\n",
        "}\n",
        "graph1 = Graph(adjacency_list)\n",
        "graph1.a_star_algorithm('A', 'D')"
      ],
      "execution_count": 3,
      "outputs": [
        {
          "output_type": "stream",
          "text": [
            "Path found: ['A', 'B', 'D']\n"
          ],
          "name": "stdout"
        },
        {
          "output_type": "execute_result",
          "data": {
            "text/plain": [
              "['A', 'B', 'D']"
            ]
          },
          "metadata": {
            "tags": []
          },
          "execution_count": 3
        }
      ]
    }
  ]
}